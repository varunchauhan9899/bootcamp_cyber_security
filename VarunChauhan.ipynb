{
  "nbformat": 4,
  "nbformat_minor": 0,
  "metadata": {
    "colab": {
      "name": "VarunChauhan.ipynb",
      "provenance": []
    },
    "kernelspec": {
      "name": "python3",
      "display_name": "Python 3"
    },
    "language_info": {
      "name": "python"
    }
  },
  "cells": [
    {
      "cell_type": "code",
      "metadata": {
        "colab": {
          "base_uri": "https://localhost:8080/"
        },
        "id": "DuZ_vxs_Px3l",
        "outputId": "081dae9d-be1a-470f-c235-574ce7e110de"
      },
      "source": [
        "import requests\n",
        "from datetime import datetime\n",
        "\n",
        "api_key= \"090b2a1f55ab9eabff6d2d4910fa1405\"\n",
        "location = input(\"Enter city name: \")\n",
        "\n",
        "complete_api_link = \"https://api.openweathermap.org/data/2.5/weather?q=\"+location+\"&appid=\"+api_key\n",
        "api_link = requests.get(complete_api_link)\n",
        "api_data = api_link.json()\n",
        "\n",
        "temp_city = ((api_data['main']['temp']) - 273.15)\n",
        "weather_desc = api_data['weather'][0]['description']\n",
        "hmdt = api_data['main']['humidity']\n",
        "wind_spd = api_data['wind']['speed']\n",
        "date_time = datetime.now().strftime(\"%d %b %Y | %I:%M:%S %p\")\n",
        "\n",
        "print(\"-------------------------------------------------------------------------\")\n",
        "print(\"Weather stats for - {} || {}\".format(location.upper(), date_time))\n",
        "print(\"-------------------------------------------------------------------------\")\n",
        "\n",
        "print(\"Current temperature is: {:.2f} deg C\".format(temp_city))\n",
        "print(\"Current weather desc :\",weather_desc)\n",
        "print(\"Current Humidity     :\",hmdt, '%')\n",
        "print(\"Current wind speed   :\",wind_spd ,'kmph')"
      ],
      "execution_count": 1,
      "outputs": [
        {
          "output_type": "stream",
          "text": [
            "Enter city name: delhi\n",
            "-------------------------------------------------------------------------\n",
            "Weather stats for - DELHI || 23 Jun 2021 | 02:22:23 PM\n",
            "-------------------------------------------------------------------------\n",
            "Current temperature is: 38.05 deg C\n",
            "Current weather desc : haze\n",
            "Current Humidity     : 32 %\n",
            "Current wind speed   : 2.57 kmph\n"
          ],
          "name": "stdout"
        }
      ]
    }
  ]
}